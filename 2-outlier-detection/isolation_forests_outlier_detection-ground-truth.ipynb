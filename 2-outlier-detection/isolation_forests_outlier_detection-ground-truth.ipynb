{
 "cells": [
  {
   "cell_type": "markdown",
   "metadata": {},
   "source": [
    "# Outlier detection with isolation forests"
   ]
  },
  {
   "cell_type": "code",
   "execution_count": 2,
   "metadata": {},
   "outputs": [],
   "source": [
    "import numpy as np\n",
    "from sklearn.model_selection import KFold\n",
    "from sklearn.ensemble import IsolationForest\n",
    "import warnings\n",
    "import scipy.io\n",
    "\n",
    "warnings.filterwarnings(\"ignore\")\n",
    "\n",
    "rng = np.random.RandomState(42)"
   ]
  },
  {
   "cell_type": "markdown",
   "metadata": {},
   "source": [
    "## Data loading"
   ]
  },
  {
   "cell_type": "code",
   "execution_count": 3,
   "metadata": {},
   "outputs": [],
   "source": [
    "%run ../util/load_data.py\n",
    "%run ../util/data_visualization.py\n",
    "%run ../util/outliers_statistics.py\n",
    "\n",
    "data = load_data(\"../data\")\n",
    "mat = scipy.io.loadmat('../data/cover.mat')\n",
    "df = pd.DataFrame(mat['X'], columns=data['numerical_attributes'])\n",
    "target = mat['y']\n",
    "df['target'] = target"
   ]
  },
  {
   "cell_type": "markdown",
   "metadata": {},
   "source": [
    "### Outlier detection with Isolation Forests"
   ]
  },
  {
   "cell_type": "code",
   "execution_count": 12,
   "metadata": {},
   "outputs": [
    {
     "name": "stdout",
     "output_type": "stream",
     "text": [
      "0\n",
      "1\n",
      "2\n",
      "3\n",
      "4\n",
      "5\n",
      "6\n",
      "7\n",
      "8\n",
      "9\n"
     ]
    }
   ],
   "source": [
    "kf = KFold(n_splits=10)\n",
    "\n",
    "outliers_ids = []\n",
    "\n",
    "count = 0\n",
    "for train, test in kf.split(df):\n",
    "    print(count)\n",
    "    count += 1\n",
    "    train_data = df.iloc[train, :]\n",
    "    test_data = df.iloc[test, :]\n",
    "    \n",
    "    isolation_forest_classifier = IsolationForest(random_state=rng, behaviour='new')\n",
    "    isolation_forest_classifier.fit(train_data)\n",
    "    \n",
    "    prediction_result = zip(\n",
    "        test_data.index.values.tolist(), \n",
    "        isolation_forest_classifier.predict(test_data)\n",
    "    )\n",
    "    \n",
    "    outliers_ids += [id for id, is_not_outlier in prediction_result if is_not_outlier < 0]"
   ]
  },
  {
   "cell_type": "code",
   "execution_count": 13,
   "metadata": {},
   "outputs": [
    {
     "name": "stdout",
     "output_type": "stream",
     "text": [
      "TP: 2637\n",
      "FP: 31267\n",
      "FN: 110\n",
      "Precision: 0.0777784332232185\n",
      "Recall: 0.9599563159810702\n",
      "F1-score: 0.14389784726201194\n"
     ]
    }
   ],
   "source": [
    "precision, recall, F1_score = outliers_statistics(df, outliers_ids)\n",
    "print(\"Precision: \"+ str(precision))\n",
    "print(\"Recall: \"+ str(recall))\n",
    "print(\"F1-score: \"+ str(F1_score))"
   ]
  },
  {
   "cell_type": "code",
   "execution_count": null,
   "metadata": {},
   "outputs": [],
   "source": []
  }
 ],
 "metadata": {
  "kernelspec": {
   "display_name": "Python 3",
   "language": "python",
   "name": "python3"
  },
  "language_info": {
   "codemirror_mode": {
    "name": "ipython",
    "version": 3
   },
   "file_extension": ".py",
   "mimetype": "text/x-python",
   "name": "python",
   "nbconvert_exporter": "python",
   "pygments_lexer": "ipython3",
   "version": "3.6.4"
  }
 },
 "nbformat": 4,
 "nbformat_minor": 2
}
