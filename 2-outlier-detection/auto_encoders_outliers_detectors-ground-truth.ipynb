{
 "cells": [
  {
   "cell_type": "markdown",
   "metadata": {},
   "source": [
    "# Outliers detection using AutoEncoders"
   ]
  },
  {
   "cell_type": "code",
   "execution_count": 12,
   "metadata": {},
   "outputs": [],
   "source": [
    "from keras.models import Model, load_model\n",
    "from keras.layers import Input, Dense\n",
    "from keras.callbacks import ModelCheckpoint, TensorBoard\n",
    "from keras import regularizers\n",
    "from sklearn.model_selection import KFold\n",
    "import scipy.io\n",
    "\n",
    "%run ../util/load_data.py\n",
    "%run ../util/data_visualization.py\n",
    "%run ../util/outliers_statistics.py\n"
   ]
  },
  {
   "cell_type": "markdown",
   "metadata": {},
   "source": [
    "## Data loading"
   ]
  },
  {
   "cell_type": "code",
   "execution_count": 2,
   "metadata": {},
   "outputs": [
    {
     "name": "stderr",
     "output_type": "stream",
     "text": [
      "/Users/andrluc/.pyenv/versions/3.6.4/lib/python3.6/site-packages/ggplot/utils.py:81: FutureWarning: pandas.tslib is deprecated and will be removed in a future version.\n",
      "You can access Timestamp as pandas.Timestamp\n",
      "  pd.tslib.Timestamp,\n",
      "/Users/andrluc/.pyenv/versions/3.6.4/lib/python3.6/site-packages/ggplot/stats/smoothers.py:4: FutureWarning: The pandas.lib module is deprecated and will be removed in a future version. These are private functions and can be accessed from pandas._libs.lib instead\n",
      "  from pandas.lib import Timestamp\n"
     ]
    }
   ],
   "source": [
    "data = load_data(\"../data\")\n",
    "mat = scipy.io.loadmat('../data/cover.mat')\n",
    "df = pd.DataFrame(mat['X'], columns=data['numerical_attributes'])\n",
    "target = mat['y']\n",
    "df['target'] = target"
   ]
  },
  {
   "cell_type": "markdown",
   "metadata": {},
   "source": [
    "## Outliers detection with Auto-Encoders"
   ]
  },
  {
   "cell_type": "markdown",
   "metadata": {},
   "source": [
    "### Network construction"
   ]
  },
  {
   "cell_type": "code",
   "execution_count": 9,
   "metadata": {},
   "outputs": [],
   "source": [
    "nb_epoch = 10\n",
    "batch_size = 128\n",
    "input_dim = len(data['numerical_attributes']) #num of columns, 30\n",
    "encoding_dim = 14\n",
    "hidden_dim = int(encoding_dim / 2) #i.e. 7\n",
    "learning_rate = 1e-5\n",
    "\n",
    "input_layer = Input(shape=(input_dim, ))\n",
    "encoder = Dense(encoding_dim, activation=\"tanh\", activity_regularizer=regularizers.l1(learning_rate))(input_layer)\n",
    "encoder = Dense(hidden_dim, activation=\"relu\")(encoder)\n",
    "decoder = Dense(hidden_dim, activation='tanh')(encoder)\n",
    "decoder = Dense(input_dim, activation='relu')(decoder)\n",
    "\n"
   ]
  },
  {
   "cell_type": "markdown",
   "metadata": {},
   "source": [
    "### Outliers detection"
   ]
  },
  {
   "cell_type": "code",
   "execution_count": 10,
   "metadata": {},
   "outputs": [
    {
     "name": "stdout",
     "output_type": "stream",
     "text": [
      "Epoch 1/10\n",
      "143024/143024 [==============================] - 3s 21us/step - loss: 1542334.2718 - acc: 0.8796\n",
      "Epoch 2/10\n",
      "143024/143024 [==============================] - 2s 17us/step - loss: 1529153.5436 - acc: 0.8808: 1s - \n",
      "Epoch 3/10\n",
      "143024/143024 [==============================] - 2s 16us/step - loss: 1516788.7231 - acc: 0.8808\n",
      "Epoch 4/10\n",
      "143024/143024 [==============================] - 2s 17us/step - loss: 1504637.9802 - acc: 0.8808\n",
      "Epoch 5/10\n",
      "143024/143024 [==============================] - 3s 21us/step - loss: 1492637.7893 - acc: 0.8808\n",
      "Epoch 6/10\n",
      "143024/143024 [==============================] - 3s 19us/step - loss: 1480769.5096 - acc: 0.8808\n",
      "Epoch 7/10\n",
      "143024/143024 [==============================] - 3s 19us/step - loss: 1469021.8475 - acc: 0.8808\n",
      "Epoch 8/10\n",
      "143024/143024 [==============================] - 2s 17us/step - loss: 1457390.3347 - acc: 0.8808\n",
      "Epoch 9/10\n",
      "143024/143024 [==============================] - 2s 17us/step - loss: 1445870.3214 - acc: 0.8808\n",
      "Epoch 10/10\n",
      "143024/143024 [==============================] - 2s 17us/step - loss: 1434458.9687 - acc: 0.8808\n",
      "Epoch 1/10\n",
      "143024/143024 [==============================] - 2s 17us/step - loss: 3058068.5153 - acc: 0.3556\n",
      "Epoch 2/10\n",
      "143024/143024 [==============================] - 2s 17us/step - loss: 3041980.8400 - acc: 0.3556: 0s - loss: 3044389.9223 - acc: 0.3\n",
      "Epoch 3/10\n",
      "143024/143024 [==============================] - 2s 15us/step - loss: 3026047.2643 - acc: 0.3556: 0s - loss: 30366\n",
      "Epoch 4/10\n",
      "143024/143024 [==============================] - 2s 15us/step - loss: 3010233.6983 - acc: 0.3556\n",
      "Epoch 5/10\n",
      "143024/143024 [==============================] - 2s 14us/step - loss: 2994531.8626 - acc: 0.3556: 0s - loss: 2997344.9948 \n",
      "Epoch 6/10\n",
      "143024/143024 [==============================] - 2s 14us/step - loss: 2978940.6606 - acc: 0.3556\n",
      "Epoch 7/10\n",
      "143024/143024 [==============================] - 3s 18us/step - loss: 2963450.0172 - acc: 0.3556\n",
      "Epoch 8/10\n",
      "143024/143024 [==============================] - 2s 16us/step - loss: 2948058.7838 - acc: 0.3556\n",
      "Epoch 9/10\n",
      "143024/143024 [==============================] - 2s 16us/step - loss: 2932764.5874 - acc: 0.3556\n",
      "Epoch 10/10\n",
      "143024/143024 [==============================] - 2s 16us/step - loss: 2917564.3292 - acc: 0.3556\n"
     ]
    }
   ],
   "source": [
    "kf = KFold(n_splits=2)\n",
    "\n",
    "outliers_ids = []\n",
    "\n",
    "for train, test in kf.split(df):\n",
    "    train_data = df.iloc[train, :]\n",
    "    test_data = df.iloc[test, :]\n",
    "    \n",
    "    \n",
    "    autoencoder = Model(inputs=input_layer, outputs=decoder)\n",
    "    autoencoder.compile(metrics=['accuracy'],\n",
    "                    loss='mean_squared_error',\n",
    "                    optimizer='adam')\n",
    "    \n",
    "    autoencoder.fit(train_data[data['numerical_attributes']], train_data[data['numerical_attributes']],\n",
    "                    epochs=nb_epoch,\n",
    "                    batch_size=batch_size,\n",
    "                    shuffle=True,\n",
    "                    verbose=1)\n",
    "    \n",
    "    test_data_predictions = autoencoder.predict(test_data[data['numerical_attributes']])\n",
    "    \n",
    "    mse = np.mean(np.power(test_data[data['numerical_attributes']] - test_data_predictions, 2), axis=1)\n",
    "    mse_mean = np.mean(mse)\n",
    "    \n",
    "    prediction_result = zip(\n",
    "        test_data.index.values.tolist(),\n",
    "        mse\n",
    "    )\n",
    "    \n",
    "    outliers_ids += [id for id, distance in prediction_result if distance > mse_mean * 3]"
   ]
  },
  {
   "cell_type": "code",
   "execution_count": 13,
   "metadata": {},
   "outputs": [
    {
     "name": "stdout",
     "output_type": "stream",
     "text": [
      "Target number of outliers: 2747\n",
      "Found number of outliers: 10571\n",
      "TP: 0\n",
      "FP: 10571\n",
      "FN: 2747\n",
      "Precision: 0.0\n",
      "Recall: 0.0\n",
      "F1-score: 0\n"
     ]
    }
   ],
   "source": [
    "precision, recall, F1_score = outliers_statistics(df, outliers_ids)\n",
    "print(\"Precision: \"+ str(precision))\n",
    "print(\"Recall: \"+ str(recall))\n",
    "print(\"F1-score: \"+ str(F1_score))"
   ]
  },
  {
   "cell_type": "code",
   "execution_count": null,
   "metadata": {},
   "outputs": [],
   "source": []
  },
  {
   "cell_type": "code",
   "execution_count": null,
   "metadata": {},
   "outputs": [],
   "source": []
  }
 ],
 "metadata": {
  "kernelspec": {
   "display_name": "Python 3",
   "language": "python",
   "name": "python3"
  },
  "language_info": {
   "codemirror_mode": {
    "name": "ipython",
    "version": 3
   },
   "file_extension": ".py",
   "mimetype": "text/x-python",
   "name": "python",
   "nbconvert_exporter": "python",
   "pygments_lexer": "ipython3",
   "version": "3.6.4"
  }
 },
 "nbformat": 4,
 "nbformat_minor": 2
}
